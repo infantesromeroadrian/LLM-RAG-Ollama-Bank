{
 "cells": [
  {
   "metadata": {},
   "cell_type": "markdown",
   "source": "## Ollama from Langchain",
   "id": "3add341c2499c3fb"
  },
  {
   "metadata": {
    "ExecuteTime": {
     "end_time": "2024-07-19T17:48:15.367844Z",
     "start_time": "2024-07-19T17:48:13.513957Z"
    }
   },
   "cell_type": "code",
   "source": [
    "# Celda 1: Importaciones\n",
    "import os\n",
    "from typing import List, Any\n",
    "from langchain_community.llms import Ollama\n",
    "from langchain_community.document_loaders import PyMuPDFLoader, CSVLoader\n",
    "from langchain.text_splitter import RecursiveCharacterTextSplitter\n",
    "from langchain_community.embeddings.fastembed import FastEmbedEmbeddings\n",
    "from langchain_community.vectorstores import Chroma\n",
    "from langchain.prompts import PromptTemplate\n",
    "from langchain.chains import RetrievalQA\n",
    "from langchain_core.documents import Document\n",
    "from langchain_core.retrievers import BaseRetriever\n",
    "from pydantic import Field\n",
    "import pandas as pd"
   ],
   "id": "8ff458e1964993a8",
   "outputs": [],
   "execution_count": 1
  },
  {
   "cell_type": "code",
   "id": "initial_id",
   "metadata": {
    "collapsed": true,
    "ExecuteTime": {
     "end_time": "2024-07-19T14:03:02.193610Z",
     "start_time": "2024-07-19T14:02:56.563696Z"
    }
   },
   "source": [
    "llm = Ollama(model=\"llama3\")\n",
    "llm.invoke(\"Hola, ¿Quién eres?\")"
   ],
   "outputs": [
    {
     "data": {
      "text/plain": [
       "'¡Hola! Soy LLaMA, un modelo de lenguaje basado en inteligencia artificial desarrollado por Meta AI. Estoy aquí para ayudarte con tus preguntas y conversaciones en español. ¿En qué puedo ayudarte hoy?'"
      ]
     },
     "execution_count": 4,
     "metadata": {},
     "output_type": "execute_result"
    }
   ],
   "execution_count": 4
  },
  {
   "metadata": {},
   "cell_type": "markdown",
   "source": "## RAG",
   "id": "72f4dfe98bdf89c0"
  },
  {
   "metadata": {},
   "cell_type": "markdown",
   "source": "## Load Document",
   "id": "ee78810e354ee92a"
  },
  {
   "metadata": {
    "ExecuteTime": {
     "end_time": "2024-07-19T17:52:14.657326Z",
     "start_time": "2024-07-19T17:52:14.653675Z"
    }
   },
   "cell_type": "code",
   "source": [
    "# Celda 1: Clase DocumentLoader\n",
    "class DocumentLoader:\n",
    "    @staticmethod\n",
    "    def load_pdfs(directory: str) -> List[Document]:\n",
    "        pdf_docs = []\n",
    "        for filename in os.listdir(directory):\n",
    "            if filename.endswith('.pdf'):\n",
    "                loader = PyMuPDFLoader(os.path.join(directory, filename))\n",
    "                pdf_docs.extend(loader.load())\n",
    "        return pdf_docs\n",
    "\n",
    "    @staticmethod\n",
    "    def load_csv(file_path: str) -> pd.DataFrame:\n",
    "        return pd.read_csv(file_path)"
   ],
   "id": "8667ddf1798665cf",
   "outputs": [],
   "execution_count": 13
  },
  {
   "metadata": {
    "ExecuteTime": {
     "end_time": "2024-07-19T17:52:33.372756Z",
     "start_time": "2024-07-19T17:52:30.366021Z"
    }
   },
   "cell_type": "code",
   "source": [
    "# Uso de la clase DocumentLoader\n",
    "pdf_docs = DocumentLoader.load_pdfs(\"../data/GuideLines\")\n",
    "df = DocumentLoader.load_csv('../data/raw_data/BankCustomerChurnPrediction.csv')\n",
    "\n",
    "print(f\"Number of PDF documents loaded: {len(pdf_docs)}\")\n",
    "print(f\"CSV data loaded with shape: {df.shape}\")"
   ],
   "id": "bf3f3a1090407335",
   "outputs": [
    {
     "name": "stdout",
     "output_type": "stream",
     "text": [
      "Number of PDF documents loaded: 502\n",
      "CSV data loaded with shape: (10000, 12)\n"
     ]
    }
   ],
   "execution_count": 14
  },
  {
   "metadata": {
    "ExecuteTime": {
     "end_time": "2024-07-19T17:52:54.459435Z",
     "start_time": "2024-07-19T17:52:54.453821Z"
    }
   },
   "cell_type": "code",
   "source": [
    "# Celda 3: Clase DataProcessor\n",
    "class DataProcessor:\n",
    "    @staticmethod\n",
    "    def split_documents(docs: List[Document], chunk_size: int = 2000, chunk_overlap: int = 500) -> List[Document]:\n",
    "        text_splitter = RecursiveCharacterTextSplitter(chunk_size=chunk_size, chunk_overlap=chunk_overlap)\n",
    "        return text_splitter.split_documents(docs)\n",
    "\n",
    "    @staticmethod\n",
    "    def create_csv_summary(df: pd.DataFrame) -> Document:\n",
    "        csv_summary = f\"\"\"\n",
    "        RESUMEN IMPORTANTE DEL CSV 'BankCustomerChurnPrediction.csv':\n",
    "        - Total de filas y clientes únicos: {len(df)}\n",
    "        - Número exacto de clientes únicos: {df['customer_id'].nunique()}\n",
    "        - Columnas: {', '.join(df.columns)}\n",
    "        - Rango de edades: {df['age'].min()} - {df['age'].max()} años\n",
    "        - Países representados: {', '.join(df['country'].unique())}\n",
    "        - Saldo promedio: {df['balance'].mean():.2f}\n",
    "        - Porcentaje de clientes con tarjeta de crédito: {(df['credit_card'].sum() / len(df) * 100):.2f}%\n",
    "        - Tasa de abandono (churn): {(df['churn'].sum() / len(df) * 100):.2f}%\n",
    "\n",
    "        Esta información es un resumen preciso basado en el análisis del archivo CSV completo.\n",
    "        Para preguntas sobre estadísticas generales o totales, utiliza siempre esta información.\n",
    "        \"\"\"\n",
    "        return Document(page_content=csv_summary, metadata={\"source\": \"CSV_summary\", \"importance\": 10})\n",
    "\n",
    "    @staticmethod\n",
    "    def create_csv_docs(df: pd.DataFrame, sample_size: int = 1000) -> List[Document]:\n",
    "        csv_sample = df.sample(n=sample_size, random_state=42)\n",
    "        return [Document(page_content=row.to_json(), metadata={\"source\": \"CSV_record\", \"importance\": 1}) \n",
    "                for _, row in csv_sample.iterrows()]"
   ],
   "id": "bb5565fb42385109",
   "outputs": [],
   "execution_count": 15
  },
  {
   "metadata": {
    "ExecuteTime": {
     "end_time": "2024-07-19T17:53:11.923069Z",
     "start_time": "2024-07-19T17:53:11.863743Z"
    }
   },
   "cell_type": "code",
   "source": [
    "# Uso de la clase DataProcessor\n",
    "split_docs = DataProcessor.split_documents(pdf_docs)\n",
    "csv_summary_doc = DataProcessor.create_csv_summary(df)\n",
    "csv_docs = DataProcessor.create_csv_docs(df)\n",
    "\n",
    "print(f\"Number of split documents: {len(split_docs)}\")\n",
    "print(f\"Content of CSV summary document: {csv_summary_doc.page_content[:200]}...\")  # Mostramos solo los primeros 200 caracteres\n",
    "print(f\"Number of CSV record documents: {len(csv_docs)}\")"
   ],
   "id": "4dd432a6c3fb49f8",
   "outputs": [
    {
     "name": "stdout",
     "output_type": "stream",
     "text": [
      "Number of split documents: 629\n",
      "Content of CSV summary document: \n",
      "        RESUMEN IMPORTANTE DEL CSV 'BankCustomerChurnPrediction.csv':\n",
      "        - Total de filas y clientes únicos: 10000\n",
      "        - Número exacto de clientes únicos: 10000\n",
      "        - Columnas: customer_...\n",
      "Number of CSV record documents: 1000\n"
     ]
    }
   ],
   "execution_count": 16
  },
  {
   "metadata": {
    "ExecuteTime": {
     "end_time": "2024-07-19T17:53:27.107179Z",
     "start_time": "2024-07-19T17:53:27.104088Z"
    }
   },
   "cell_type": "code",
   "source": [
    "# Celda 4: Clase DocumentManager\n",
    "class DocumentManager:\n",
    "    def __init__(self, pdf_directory: str, csv_file: str):\n",
    "        self.pdf_directory = pdf_directory\n",
    "        self.csv_file = csv_file\n",
    "\n",
    "    def load_and_process_documents(self):\n",
    "        pdf_docs = DocumentLoader.load_pdfs(self.pdf_directory)\n",
    "        df = DocumentLoader.load_csv(self.csv_file)\n",
    "        \n",
    "        split_docs = DataProcessor.split_documents(pdf_docs)\n",
    "        csv_summary_doc = DataProcessor.create_csv_summary(df)\n",
    "        csv_docs = DataProcessor.create_csv_docs(df)\n",
    "        \n",
    "        return [csv_summary_doc] + csv_docs + split_docs"
   ],
   "id": "9f5ca1b6d8bf45f0",
   "outputs": [],
   "execution_count": 17
  },
  {
   "metadata": {
    "ExecuteTime": {
     "end_time": "2024-07-19T17:53:46.997769Z",
     "start_time": "2024-07-19T17:53:43.935542Z"
    }
   },
   "cell_type": "code",
   "source": [
    "# Uso de la clase DocumentManager\n",
    "doc_manager = DocumentManager(pdf_directory=\"../data/GuideLines\", csv_file='../data/raw_data/BankCustomerChurnPrediction.csv')\n",
    "all_docs = doc_manager.load_and_process_documents()\n",
    "\n",
    "print(f\"Total number of documents: {len(all_docs)}\")"
   ],
   "id": "a3e76bd70f584591",
   "outputs": [
    {
     "name": "stdout",
     "output_type": "stream",
     "text": [
      "Total number of documents: 1630\n"
     ]
    }
   ],
   "execution_count": 18
  },
  {
   "metadata": {
    "ExecuteTime": {
     "end_time": "2024-07-19T17:54:03.490738Z",
     "start_time": "2024-07-19T17:54:02.254482Z"
    }
   },
   "cell_type": "code",
   "source": [
    "# Celda 5: Inicialización del modelo de embeddings\n",
    "embed_model = FastEmbedEmbeddings(model_name=\"sentence-transformers/all-MiniLM-L6-v2\")\n",
    "\n",
    "# Celda 6: Clase VectorStoreManager\n",
    "class VectorStoreManager:\n",
    "    def __init__(self, embed_model):\n",
    "        self.embed_model = embed_model\n",
    "\n",
    "    def create_vector_store(self, documents):\n",
    "        return Chroma.from_documents(\n",
    "            documents=documents,\n",
    "            embedding=self.embed_model,\n",
    "            persist_directory=\"bank_data_db\",\n",
    "            collection_name=\"bank_regulations_and_data\"\n",
    "        )"
   ],
   "id": "9376e80641f0fddb",
   "outputs": [
    {
     "data": {
      "text/plain": [
       "Fetching 5 files:   0%|          | 0/5 [00:00<?, ?it/s]"
      ],
      "application/vnd.jupyter.widget-view+json": {
       "version_major": 2,
       "version_minor": 0,
       "model_id": "ce1cfe0609c545488a8499a4778777a8"
      }
     },
     "metadata": {},
     "output_type": "display_data"
    }
   ],
   "execution_count": 19
  },
  {
   "metadata": {
    "ExecuteTime": {
     "end_time": "2024-07-19T17:57:57.612806Z",
     "start_time": "2024-07-19T17:54:14.106643Z"
    }
   },
   "cell_type": "code",
   "source": [
    "# Uso de la clase VectorStoreManager\n",
    "vs_manager = VectorStoreManager(embed_model)\n",
    "vector_store = vs_manager.create_vector_store(all_docs)\n",
    "\n",
    "print(f\"Vector store created with {vector_store._collection.count()} documents\")"
   ],
   "id": "5bcd2cb25248d69e",
   "outputs": [
    {
     "name": "stdout",
     "output_type": "stream",
     "text": [
      "Vector store created with 50668 documents\n"
     ]
    }
   ],
   "execution_count": 20
  },
  {
   "metadata": {
    "ExecuteTime": {
     "end_time": "2024-07-19T17:58:41.589759Z",
     "start_time": "2024-07-19T17:58:41.581175Z"
    }
   },
   "cell_type": "code",
   "source": [
    "class CustomRetriever(BaseRetriever):\n",
    "    vectorstore: Any = Field(default=None)\n",
    "    \n",
    "    class Config:\n",
    "        arbitrary_types_allowed = True\n",
    "\n",
    "    def get_relevant_documents(self, query: str) -> List[Document]:\n",
    "        # First, try to retrieve the summary document\n",
    "        summary_docs = self.vectorstore.similarity_search(query, filter={\"source\": \"CSV_summary\"}, k=1)\n",
    "        \n",
    "        # Then, retrieve other relevant documents\n",
    "        other_docs = self.vectorstore.similarity_search(query, k=4)\n",
    "        \n",
    "        # Combine and return, ensuring the summary is first if it was retrieved\n",
    "        return summary_docs + [doc for doc in other_docs if doc not in summary_docs]\n",
    "\n",
    "    async def aget_relevant_documents(self, query: str) -> List[Document]:\n",
    "        # Implement async version if needed\n",
    "        return self.get_relevant_documents(query)"
   ],
   "id": "884952b9a0471486",
   "outputs": [],
   "execution_count": 22
  },
  {
   "metadata": {
    "ExecuteTime": {
     "end_time": "2024-07-19T17:58:43.566059Z",
     "start_time": "2024-07-19T17:58:42.745923Z"
    }
   },
   "cell_type": "code",
   "source": [
    "# Uso de la clase CustomRetriever\n",
    "custom_retriever = CustomRetriever(vectorstore=vector_store)\n",
    "\n",
    "# Prueba de recuperación\n",
    "retrieved_docs = custom_retriever.get_relevant_documents(\"¿Cuántos clientes únicos tenemos en el banco?\")\n",
    "for i, doc in enumerate(retrieved_docs):\n",
    "    print(f\"\\nDocumento {i+1}:\")\n",
    "    print(f\"Fuente: {doc.metadata.get('source', 'No especificada')}\")\n",
    "    print(doc.page_content[:200])  # Primeros 200 caracteres"
   ],
   "id": "bd50cf7f12275347",
   "outputs": [
    {
     "name": "stderr",
     "output_type": "stream",
     "text": [
      "/Users/adrianinfantes/Library/Caches/pypoetry/virtualenvs/langchainragollama-USdIz_Vs-py3.12/lib/python3.12/site-packages/langchain_core/_api/deprecation.py:139: LangChainDeprecationWarning: The method `BaseRetriever.get_relevant_documents` was deprecated in langchain-core 0.1.46 and will be removed in 0.3.0. Use invoke instead.\n",
      "  warn_deprecated(\n"
     ]
    },
    {
     "name": "stdout",
     "output_type": "stream",
     "text": [
      "\n",
      "Documento 1:\n",
      "Fuente: CSV_summary\n",
      "\n",
      "IMPORTANTE: Este es un resumen preciso del archivo CSV 'BankCustomerChurnPrediction.csv'.\n",
      "- Total de filas (clientes únicos): 10000\n",
      "- Número exacto de clientes únicos: 10000\n",
      "- Columnas: customer_id, \n",
      "\n",
      "Documento 2:\n",
      "Fuente: ../data/raw_data/BankCustomerChurnPrediction.csv\n",
      "customer_id: 15595010\n",
      "credit_score: 694\n",
      "country: Spain\n",
      "gender: Female\n",
      "age: 39\n",
      "tenure: 9\n",
      "balance: 0\n",
      "products_number: 2\n",
      "credit_card: 0\n",
      "active_member: 0\n",
      "estimated_salary: 99924.04\n",
      "churn: 0\n",
      "\n",
      "Documento 3:\n",
      "Fuente: ../data/raw_data/BankCustomerChurnPrediction.csv\n",
      "customer_id: 15595010\n",
      "credit_score: 694\n",
      "country: Spain\n",
      "gender: Female\n",
      "age: 39\n",
      "tenure: 9\n",
      "balance: 0\n",
      "products_number: 2\n",
      "credit_card: 0\n",
      "active_member: 0\n",
      "estimated_salary: 99924.04\n",
      "churn: 0\n",
      "\n",
      "Documento 4:\n",
      "Fuente: ../data/raw_data/BankCustomerChurnPrediction.csv\n",
      "customer_id: 15595010\n",
      "credit_score: 694\n",
      "country: Spain\n",
      "gender: Female\n",
      "age: 39\n",
      "tenure: 9\n",
      "balance: 0\n",
      "products_number: 2\n",
      "credit_card: 0\n",
      "active_member: 0\n",
      "estimated_salary: 99924.04\n",
      "churn: 0\n",
      "\n",
      "Documento 5:\n",
      "Fuente: ../data/raw_data/BankCustomerChurnPrediction.csv\n",
      "customer_id: 15595010\n",
      "credit_score: 694\n",
      "country: Spain\n",
      "gender: Female\n",
      "age: 39\n",
      "tenure: 9\n",
      "balance: 0\n",
      "products_number: 2\n",
      "credit_card: 0\n",
      "active_member: 0\n",
      "estimated_salary: 99924.04\n",
      "churn: 0\n"
     ]
    }
   ],
   "execution_count": 23
  },
  {
   "metadata": {
    "ExecuteTime": {
     "end_time": "2024-07-19T17:59:05.527763Z",
     "start_time": "2024-07-19T17:59:05.514009Z"
    }
   },
   "cell_type": "code",
   "source": [
    "class QASystem:\n",
    "    def __init__(self, llm, custom_retriever):\n",
    "        self.llm = llm\n",
    "        self.custom_retriever = custom_retriever\n",
    "        self.qa_chain = None\n",
    "\n",
    "    def setup_qa_chain(self):\n",
    "        prompt = PromptTemplate(\n",
    "            template=\"\"\"Utiliza la siguiente información para responder a la pregunta del usuario.\n",
    "            IMPORTANTE: Para preguntas sobre datos agregados o estadísticas del banco, SIEMPRE consulta primero el resumen del CSV.\n",
    "            Este resumen contiene información precisa y confiable sobre el conjunto de datos completo.\n",
    "            No te bases en ejemplos individuales para hacer generalizaciones sobre todo el conjunto de datos.\n",
    "\n",
    "            Si la pregunta se refiere a datos numéricos o estadísticas del banco, asegúrate de usar la información del resumen del CSV.\n",
    "            Si no encuentras la respuesta en el resumen, entonces puedes consultar los documentos CSV individuales.\n",
    "            Si aún así no puedes responder, indica que no lo sabes.\n",
    "            No inventes respuestas. Responde en el mismo idioma que la pregunta.\n",
    "\n",
    "            Contexto: {context}\n",
    "            Pregunta: {question}\n",
    "\n",
    "            Proporciona solo la respuesta útil a continuación, nada más. Si la respuesta involucra un recuento o estadística, asegúrate de proporcionar el número exacto encontrado en el resumen del CSV.\n",
    "            Respuesta útil:\n",
    "            \"\"\",\n",
    "            input_variables=[\"context\", \"question\"]\n",
    "        )\n",
    "        \n",
    "        self.qa_chain = RetrievalQA.from_chain_type(\n",
    "            llm=self.llm,\n",
    "            chain_type=\"stuff\",\n",
    "            retriever=self.custom_retriever,\n",
    "            return_source_documents=True,\n",
    "            chain_type_kwargs={\"prompt\": prompt}\n",
    "        )\n",
    "\n",
    "    def ask_question(self, question: str):\n",
    "        if not self.qa_chain:\n",
    "            raise ValueError(\"QA chain not set up. Run setup_qa_chain first.\")\n",
    "        return self.qa_chain.invoke({\"query\": question})"
   ],
   "id": "dda7a7fadc033657",
   "outputs": [],
   "execution_count": 24
  },
  {
   "metadata": {
    "ExecuteTime": {
     "end_time": "2024-07-19T17:59:54.902617Z",
     "start_time": "2024-07-19T17:59:54.895222Z"
    }
   },
   "cell_type": "code",
   "source": [
    "# Celda 9: Clase RAGSystem\n",
    "class RAGSystem:\n",
    "    def __init__(self, pdf_directory: str, csv_file: str):\n",
    "        self.document_manager = DocumentManager(pdf_directory, csv_file)\n",
    "        self.llm = Ollama(model=\"llama3\")\n",
    "        self.embed_model = FastEmbedEmbeddings(model_name=\"sentence-transformers/all-MiniLM-L6-v2\")\n",
    "        self.vector_store_manager = VectorStoreManager(self.embed_model)\n",
    "        self.qa_system = None\n",
    "\n",
    "    def run(self):\n",
    "        # Load and process documents\n",
    "        documents = self.document_manager.load_and_process_documents()\n",
    "        print(f\"Total documents processed: {len(documents)}\")\n",
    "\n",
    "        # Create vector store\n",
    "        vector_store = self.vector_store_manager.create_vector_store(documents)\n",
    "        print(f\"Vector store created with {vector_store._collection.count()} documents\")\n",
    "\n",
    "        # Set up custom retriever\n",
    "        custom_retriever = CustomRetriever(vectorstore=vector_store)\n",
    "\n",
    "        # Set up QA system\n",
    "        self.qa_system = QASystem(self.llm, custom_retriever)\n",
    "        self.qa_system.setup_qa_chain()\n",
    "        print(\"QA system set up successfully\")\n",
    "\n",
    "    def ask_question(self, question: str):\n",
    "        if not self.qa_system:\n",
    "            raise ValueError(\"QA system not set up. Run the 'run' method first.\")\n",
    "        return self.qa_system.ask_question(question)"
   ],
   "id": "51aed85e3aca79e",
   "outputs": [],
   "execution_count": 26
  },
  {
   "metadata": {
    "ExecuteTime": {
     "end_time": "2024-07-19T18:03:16.089179Z",
     "start_time": "2024-07-19T18:00:10.267736Z"
    }
   },
   "cell_type": "code",
   "source": [
    "# Celda 10: Uso del RAGSystem\n",
    "rag_system = RAGSystem(pdf_directory=\"../data/GuideLines\", csv_file='../data/raw_data/BankCustomerChurnPrediction.csv')\n",
    "rag_system.run()"
   ],
   "id": "53ee500e5372ab2d",
   "outputs": [
    {
     "data": {
      "text/plain": [
       "Fetching 5 files:   0%|          | 0/5 [00:00<?, ?it/s]"
      ],
      "application/vnd.jupyter.widget-view+json": {
       "version_major": 2,
       "version_minor": 0,
       "model_id": "29c6a12efdcb4a41b33af4e93ede7532"
      }
     },
     "metadata": {},
     "output_type": "display_data"
    },
    {
     "name": "stdout",
     "output_type": "stream",
     "text": [
      "Total documents processed: 1630\n",
      "Vector store created with 52298 documents\n",
      "QA system set up successfully\n"
     ]
    }
   ],
   "execution_count": 27
  },
  {
   "metadata": {
    "ExecuteTime": {
     "end_time": "2024-07-19T18:03:57.394829Z",
     "start_time": "2024-07-19T18:03:29.263218Z"
    }
   },
   "cell_type": "code",
   "source": [
    "# Celda 11: Función para ejecutar pruebas\n",
    "def run_tests(rag_system, questions):\n",
    "    for i, question in enumerate(questions, 1):\n",
    "        print(f\"\\nPregunta {i}: {question}\")\n",
    "        try:\n",
    "            response = rag_system.ask_question(question)\n",
    "            print(\"Respuesta del modelo:\")\n",
    "            print(response[\"result\"])\n",
    "            print(\"\\nFuente principal:\")\n",
    "            print(f\"Fuente: {response['source_documents'][0].metadata.get('source', 'No especificada')}\")\n",
    "            print(response['source_documents'][0].page_content[:200])  # Primeros 200 caracteres\n",
    "        except Exception as e:\n",
    "            print(f\"Error al procesar la pregunta: {str(e)}\")\n",
    "        print(\"-\" * 50)\n",
    "\n",
    "# Celda 12: Ejecución de pruebas\n",
    "test_questions = [\n",
    "    \"¿Cuántos clientes únicos tenemos en el banco según nuestra data en el CSV?\",\n",
    "    \"¿Cuál es el saldo promedio de los clientes?\",\n",
    "    \"¿Cuántos países están representados en nuestros datos de clientes?\",\n",
    "    \"¿Cuál es la tasa de abandono de clientes?\",\n",
    "    \"¿Cuál es el rango de edades de nuestros clientes?\",\n",
    "    \"¿Qué porcentaje de clientes tiene tarjeta de crédito?\"\n",
    "]\n",
    "\n",
    "run_tests(rag_system, test_questions)"
   ],
   "id": "7d28b1e490a4a174",
   "outputs": [
    {
     "name": "stdout",
     "output_type": "stream",
     "text": [
      "\n",
      "Pregunta 1: ¿Cuántos clientes únicos tenemos en el banco según nuestra data en el CSV?\n",
      "Respuesta del modelo:\n",
      "Según el resumen del CSV, tenemos 10000 clientes únicos en el banco.\n",
      "\n",
      "Fuente principal:\n",
      "Fuente: CSV_summary\n",
      "\n",
      "IMPORTANTE: Este es un resumen preciso del archivo CSV 'BankCustomerChurnPrediction.csv'.\n",
      "- Total de filas (clientes únicos): 10000\n",
      "- Número exacto de clientes únicos: 10000\n",
      "- Columnas: customer_id, \n",
      "--------------------------------------------------\n",
      "\n",
      "Pregunta 2: ¿Cuál es el saldo promedio de los clientes?\n",
      "Respuesta del modelo:\n",
      "76485.89\n",
      "\n",
      "Fuente principal:\n",
      "Fuente: CSV_summary\n",
      "\n",
      "IMPORTANTE: Este es un resumen preciso del archivo CSV 'BankCustomerChurnPrediction.csv'.\n",
      "- Total de filas (clientes únicos): 10000\n",
      "- Número exacto de clientes únicos: 10000\n",
      "- Columnas: customer_id, \n",
      "--------------------------------------------------\n",
      "\n",
      "Pregunta 3: ¿Cuántos países están representados en nuestros datos de clientes?\n",
      "Respuesta del modelo:\n",
      "Tres países están representados en nuestros datos de clientes: France, Spain y Germany.\n",
      "\n",
      "Fuente principal:\n",
      "Fuente: CSV_summary\n",
      "\n",
      "IMPORTANTE: Este es un resumen preciso del archivo CSV 'BankCustomerChurnPrediction.csv'.\n",
      "- Total de filas (clientes únicos): 10000\n",
      "- Número exacto de clientes únicos: 10000\n",
      "- Columnas: customer_id, \n",
      "--------------------------------------------------\n",
      "\n",
      "Pregunta 4: ¿Cuál es la tasa de abandono de clientes?\n",
      "Respuesta del modelo:\n",
      "20.37%\n",
      "\n",
      "Fuente principal:\n",
      "Fuente: CSV_summary\n",
      "\n",
      "IMPORTANTE: Este es un resumen preciso del archivo CSV 'BankCustomerChurnPrediction.csv'.\n",
      "- Total de filas (clientes únicos): 10000\n",
      "- Número exacto de clientes únicos: 10000\n",
      "- Columnas: customer_id, \n",
      "--------------------------------------------------\n",
      "\n",
      "Pregunta 5: ¿Cuál es el rango de edades de nuestros clientes?\n",
      "Respuesta del modelo:\n",
      "El rango de edades de nuestros clientes es de 18 a 92 años.\n",
      "\n",
      "Fuente principal:\n",
      "Fuente: CSV_summary\n",
      "\n",
      "IMPORTANTE: Este es un resumen preciso del archivo CSV 'BankCustomerChurnPrediction.csv'.\n",
      "- Total de filas (clientes únicos): 10000\n",
      "- Número exacto de clientes únicos: 10000\n",
      "- Columnas: customer_id, \n",
      "--------------------------------------------------\n",
      "\n",
      "Pregunta 6: ¿Qué porcentaje de clientes tiene tarjeta de crédito?\n",
      "Respuesta del modelo:\n",
      "70.55%\n",
      "\n",
      "Fuente principal:\n",
      "Fuente: CSV_summary\n",
      "\n",
      "IMPORTANTE: Este es un resumen preciso del archivo CSV 'BankCustomerChurnPrediction.csv'.\n",
      "- Total de filas (clientes únicos): 10000\n",
      "- Número exacto de clientes únicos: 10000\n",
      "- Columnas: customer_id, \n",
      "--------------------------------------------------\n"
     ]
    }
   ],
   "execution_count": 28
  }
 ],
 "metadata": {
  "kernelspec": {
   "display_name": "Python 3",
   "language": "python",
   "name": "python3"
  },
  "language_info": {
   "codemirror_mode": {
    "name": "ipython",
    "version": 2
   },
   "file_extension": ".py",
   "mimetype": "text/x-python",
   "name": "python",
   "nbconvert_exporter": "python",
   "pygments_lexer": "ipython2",
   "version": "2.7.6"
  }
 },
 "nbformat": 4,
 "nbformat_minor": 5
}
