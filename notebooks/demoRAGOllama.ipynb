{
 "cells": [
  {
   "metadata": {},
   "cell_type": "markdown",
   "source": "## Ollama from Langchain",
   "id": "3add341c2499c3fb"
  },
  {
   "metadata": {
    "ExecuteTime": {
     "end_time": "2024-07-19T21:56:33.747840Z",
     "start_time": "2024-07-19T21:56:32.835089Z"
    }
   },
   "cell_type": "code",
   "source": [
    "# Celda 1: Importaciones\n",
    "import os\n",
    "from typing import List, Any\n",
    "from langchain_community.llms import Ollama\n",
    "from langchain_community.document_loaders import PyMuPDFLoader, CSVLoader\n",
    "from langchain.text_splitter import RecursiveCharacterTextSplitter\n",
    "from langchain_community.embeddings.fastembed import FastEmbedEmbeddings\n",
    "from langchain_community.vectorstores import Chroma\n",
    "from langchain.prompts import PromptTemplate\n",
    "from langchain.chains import RetrievalQA\n",
    "from langchain_core.documents import Document\n",
    "from langchain_core.retrievers import BaseRetriever\n",
    "from pydantic import Field\n",
    "import pandas as pd"
   ],
   "id": "8ff458e1964993a8",
   "outputs": [],
   "execution_count": 1
  },
  {
   "cell_type": "code",
   "id": "initial_id",
   "metadata": {
    "collapsed": true,
    "ExecuteTime": {
     "end_time": "2024-07-19T21:56:46.599644Z",
     "start_time": "2024-07-19T21:56:40.261316Z"
    }
   },
   "source": [
    "llm = Ollama(model=\"llama3\")\n",
    "llm.invoke(\"Hola, ¿Quién eres?\")"
   ],
   "outputs": [
    {
     "data": {
      "text/plain": [
       "'Hola! Soy LLaMA, un modelo de lenguaje basado en inteligencia artificial desarrollado por Meta AI. Estoy aquí para ayudarte a responder preguntas, generar texto y tener conversaciones interesantes. ¿En qué puedo ayudarte hoy?'"
      ]
     },
     "execution_count": 2,
     "metadata": {},
     "output_type": "execute_result"
    }
   ],
   "execution_count": 2
  },
  {
   "metadata": {},
   "cell_type": "markdown",
   "source": "## RAG",
   "id": "72f4dfe98bdf89c0"
  },
  {
   "metadata": {},
   "cell_type": "markdown",
   "source": "## Load Document",
   "id": "ee78810e354ee92a"
  },
  {
   "metadata": {
    "ExecuteTime": {
     "end_time": "2024-07-19T21:56:50.223120Z",
     "start_time": "2024-07-19T21:56:50.216512Z"
    }
   },
   "cell_type": "code",
   "source": [
    "# Celda 1: Clase DocumentLoader\n",
    "class DocumentLoader:\n",
    "    @staticmethod\n",
    "    def load_pdfs(directory: str) -> List[Document]:\n",
    "        pdf_docs = []\n",
    "        for filename in os.listdir(directory):\n",
    "            if filename.endswith('.pdf'):\n",
    "                loader = PyMuPDFLoader(os.path.join(directory, filename))\n",
    "                pdf_docs.extend(loader.load())\n",
    "        return pdf_docs\n",
    "\n",
    "    @staticmethod\n",
    "    def load_csv(file_path: str) -> pd.DataFrame:\n",
    "        return pd.read_csv(file_path)"
   ],
   "id": "8667ddf1798665cf",
   "outputs": [],
   "execution_count": 3
  },
  {
   "metadata": {
    "ExecuteTime": {
     "end_time": "2024-07-19T21:56:51.049774Z",
     "start_time": "2024-07-19T21:56:50.862023Z"
    }
   },
   "cell_type": "code",
   "source": [
    "# Uso de la clase DocumentLoader\n",
    "pdf_docs = DocumentLoader.load_pdfs(\"../data/GuideLines\")\n",
    "df = DocumentLoader.load_csv('../data/raw_data/BankCustomerChurnPrediction.csv')\n",
    "\n",
    "print(f\"Number of PDF documents loaded: {len(pdf_docs)}\")\n",
    "print(f\"CSV data loaded with shape: {df.shape}\")"
   ],
   "id": "bf3f3a1090407335",
   "outputs": [
    {
     "name": "stdout",
     "output_type": "stream",
     "text": [
      "Number of PDF documents loaded: 2\n",
      "CSV data loaded with shape: (10000, 12)\n"
     ]
    }
   ],
   "execution_count": 4
  },
  {
   "metadata": {
    "ExecuteTime": {
     "end_time": "2024-07-19T21:56:51.763768Z",
     "start_time": "2024-07-19T21:56:51.759416Z"
    }
   },
   "cell_type": "code",
   "source": [
    "# Celda 3: Clase DataProcessor\n",
    "class DataProcessor:\n",
    "    @staticmethod\n",
    "    def split_documents(docs: List[Document], chunk_size: int = 2000, chunk_overlap: int = 500) -> List[Document]:\n",
    "        text_splitter = RecursiveCharacterTextSplitter(chunk_size=chunk_size, chunk_overlap=chunk_overlap)\n",
    "        return text_splitter.split_documents(docs)\n",
    "\n",
    "    @staticmethod\n",
    "    def create_csv_summary(df: pd.DataFrame) -> Document:\n",
    "        csv_summary = f\"\"\"\n",
    "        RESUMEN IMPORTANTE DEL CSV 'BankCustomerChurnPrediction.csv':\n",
    "        - Total de filas y clientes únicos: {len(df)}\n",
    "        - Número exacto de clientes únicos: {df['customer_id'].nunique()}\n",
    "        - Columnas: {', '.join(df.columns)}\n",
    "        - Rango de edades: {df['age'].min()} - {df['age'].max()} años\n",
    "        - Países representados: {', '.join(df['country'].unique())}\n",
    "        - Saldo promedio: {df['balance'].mean():.2f}\n",
    "        - Porcentaje de clientes con tarjeta de crédito: {(df['credit_card'].sum() / len(df) * 100):.2f}%\n",
    "        - Tasa de abandono (churn): {(df['churn'].sum() / len(df) * 100):.2f}%\n",
    "\n",
    "        Esta información es un resumen preciso basado en el análisis del archivo CSV completo.\n",
    "        Para preguntas sobre estadísticas generales o totales, utiliza siempre esta información.\n",
    "        \"\"\"\n",
    "        return Document(page_content=csv_summary, metadata={\"source\": \"CSV_summary\", \"importance\": 10})\n",
    "\n",
    "    @staticmethod\n",
    "    def create_csv_docs(df: pd.DataFrame, sample_size: int = 1000) -> List[Document]:\n",
    "        csv_sample = df.sample(n=sample_size, random_state=42)\n",
    "        return [Document(page_content=row.to_json(), metadata={\"source\": \"CSV_record\", \"importance\": 1}) \n",
    "                for _, row in csv_sample.iterrows()]"
   ],
   "id": "bb5565fb42385109",
   "outputs": [],
   "execution_count": 5
  },
  {
   "metadata": {
    "ExecuteTime": {
     "end_time": "2024-07-19T21:56:52.465391Z",
     "start_time": "2024-07-19T21:56:52.426485Z"
    }
   },
   "cell_type": "code",
   "source": [
    "# Uso de la clase DataProcessor\n",
    "split_docs = DataProcessor.split_documents(pdf_docs)\n",
    "csv_summary_doc = DataProcessor.create_csv_summary(df)\n",
    "csv_docs = DataProcessor.create_csv_docs(df)\n",
    "\n",
    "print(f\"Number of split documents: {len(split_docs)}\")\n",
    "print(f\"Content of CSV summary document: {csv_summary_doc.page_content[:200]}...\")  # Mostramos solo los primeros 200 caracteres\n",
    "print(f\"Number of CSV record documents: {len(csv_docs)}\")"
   ],
   "id": "4dd432a6c3fb49f8",
   "outputs": [
    {
     "name": "stdout",
     "output_type": "stream",
     "text": [
      "Number of split documents: 3\n",
      "Content of CSV summary document: \n",
      "        RESUMEN IMPORTANTE DEL CSV 'BankCustomerChurnPrediction.csv':\n",
      "        - Total de filas y clientes únicos: 10000\n",
      "        - Número exacto de clientes únicos: 10000\n",
      "        - Columnas: customer_...\n",
      "Number of CSV record documents: 1000\n"
     ]
    }
   ],
   "execution_count": 6
  },
  {
   "metadata": {
    "ExecuteTime": {
     "end_time": "2024-07-19T21:56:53.157065Z",
     "start_time": "2024-07-19T21:56:53.154442Z"
    }
   },
   "cell_type": "code",
   "source": [
    "# Celda 4: Clase DocumentManager\n",
    "class DocumentManager:\n",
    "    def __init__(self, pdf_directory: str, csv_file: str):\n",
    "        self.pdf_directory = pdf_directory\n",
    "        self.csv_file = csv_file\n",
    "\n",
    "    def load_and_process_documents(self):\n",
    "        pdf_docs = DocumentLoader.load_pdfs(self.pdf_directory)\n",
    "        df = DocumentLoader.load_csv(self.csv_file)\n",
    "        \n",
    "        split_docs = DataProcessor.split_documents(pdf_docs)\n",
    "        csv_summary_doc = DataProcessor.create_csv_summary(df)\n",
    "        csv_docs = DataProcessor.create_csv_docs(df)\n",
    "        \n",
    "        return [csv_summary_doc] + csv_docs + split_docs"
   ],
   "id": "9f5ca1b6d8bf45f0",
   "outputs": [],
   "execution_count": 7
  },
  {
   "metadata": {
    "ExecuteTime": {
     "end_time": "2024-07-19T21:56:53.859556Z",
     "start_time": "2024-07-19T21:56:53.820607Z"
    }
   },
   "cell_type": "code",
   "source": [
    "# Uso de la clase DocumentManager\n",
    "doc_manager = DocumentManager(pdf_directory=\"../data/GuideLines\", csv_file='../data/raw_data/BankCustomerChurnPrediction.csv')\n",
    "all_docs = doc_manager.load_and_process_documents()\n",
    "\n",
    "print(f\"Total number of documents: {len(all_docs)}\")"
   ],
   "id": "a3e76bd70f584591",
   "outputs": [
    {
     "name": "stdout",
     "output_type": "stream",
     "text": [
      "Total number of documents: 1004\n"
     ]
    }
   ],
   "execution_count": 8
  },
  {
   "metadata": {
    "ExecuteTime": {
     "end_time": "2024-07-19T21:56:56.228139Z",
     "start_time": "2024-07-19T21:56:54.896114Z"
    }
   },
   "cell_type": "code",
   "source": [
    "# Celda 5: Inicialización del modelo de embeddings\n",
    "embed_model = FastEmbedEmbeddings(model_name=\"sentence-transformers/all-MiniLM-L6-v2\")\n",
    "\n",
    "# Celda 6: Clase VectorStoreManager\n",
    "class VectorStoreManager:\n",
    "    def __init__(self, embed_model):\n",
    "        self.embed_model = embed_model\n",
    "\n",
    "    def create_vector_store(self, documents):\n",
    "        return Chroma.from_documents(\n",
    "            documents=documents,\n",
    "            embedding=self.embed_model,\n",
    "            persist_directory=\"bank_data_db\",\n",
    "            collection_name=\"bank_regulations_and_data\"\n",
    "        )"
   ],
   "id": "9376e80641f0fddb",
   "outputs": [
    {
     "data": {
      "text/plain": [
       "Fetching 5 files:   0%|          | 0/5 [00:00<?, ?it/s]"
      ],
      "application/vnd.jupyter.widget-view+json": {
       "version_major": 2,
       "version_minor": 0,
       "model_id": "5fd99e3983594475a7a4756e44593c01"
      }
     },
     "metadata": {},
     "output_type": "display_data"
    }
   ],
   "execution_count": 9
  },
  {
   "metadata": {
    "ExecuteTime": {
     "end_time": "2024-07-19T21:57:52.977485Z",
     "start_time": "2024-07-19T21:56:59.772387Z"
    }
   },
   "cell_type": "code",
   "source": [
    "# Uso de la clase VectorStoreManager\n",
    "vs_manager = VectorStoreManager(embed_model)\n",
    "vector_store = vs_manager.create_vector_store(all_docs)\n",
    "\n",
    "print(f\"Vector store created with {vector_store._collection.count()} documents\")"
   ],
   "id": "5bcd2cb25248d69e",
   "outputs": [
    {
     "name": "stdout",
     "output_type": "stream",
     "text": [
      "Vector store created with 1004 documents\n"
     ]
    }
   ],
   "execution_count": 10
  },
  {
   "metadata": {
    "ExecuteTime": {
     "end_time": "2024-07-19T21:58:01.635866Z",
     "start_time": "2024-07-19T21:58:01.623375Z"
    }
   },
   "cell_type": "code",
   "source": [
    "class CustomRetriever(BaseRetriever):\n",
    "    vectorstore: Any = Field(default=None)\n",
    "    \n",
    "    class Config:\n",
    "        arbitrary_types_allowed = True\n",
    "\n",
    "    def get_relevant_documents(self, query: str) -> List[Document]:\n",
    "        # First, try to retrieve the summary document\n",
    "        summary_docs = self.vectorstore.similarity_search(query, filter={\"source\": \"CSV_summary\"}, k=1)\n",
    "        \n",
    "        # Then, retrieve other relevant documents\n",
    "        other_docs = self.vectorstore.similarity_search(query, k=4)\n",
    "        \n",
    "        # Combine and return, ensuring the summary is first if it was retrieved\n",
    "        return summary_docs + [doc for doc in other_docs if doc not in summary_docs]\n",
    "\n",
    "    async def aget_relevant_documents(self, query: str) -> List[Document]:\n",
    "        # Implement async version if needed\n",
    "        return self.get_relevant_documents(query)"
   ],
   "id": "884952b9a0471486",
   "outputs": [],
   "execution_count": 11
  },
  {
   "metadata": {
    "ExecuteTime": {
     "end_time": "2024-07-19T21:58:03.943548Z",
     "start_time": "2024-07-19T21:58:03.761802Z"
    }
   },
   "cell_type": "code",
   "source": [
    "# Uso de la clase CustomRetriever\n",
    "custom_retriever = CustomRetriever(vectorstore=vector_store)\n",
    "\n",
    "# Prueba de recuperación\n",
    "retrieved_docs = custom_retriever.get_relevant_documents(\"¿Cuántos clientes únicos tenemos en el banco?\")\n",
    "for i, doc in enumerate(retrieved_docs):\n",
    "    print(f\"\\nDocumento {i+1}:\")\n",
    "    print(f\"Fuente: {doc.metadata.get('source', 'No especificada')}\")\n",
    "    print(doc.page_content[:200])  # Primeros 200 caracteres"
   ],
   "id": "bd50cf7f12275347",
   "outputs": [
    {
     "name": "stdout",
     "output_type": "stream",
     "text": [
      "\n",
      "Documento 1:\n",
      "Fuente: CSV_summary\n",
      "\n",
      "        RESUMEN IMPORTANTE DEL CSV 'BankCustomerChurnPrediction.csv':\n",
      "        - Total de filas y clientes únicos: 10000\n",
      "        - Número exacto de clientes únicos: 10000\n",
      "        - Columnas: customer_\n",
      "\n",
      "Documento 2:\n",
      "Fuente: ../data/GuideLines/bank_rules1.pdf\n",
      "Normativas del Banco Universal S.A. \n",
      " \n",
      "1. Apertura de Cuentas \n",
      "1.1. Requisitos Generales \n",
      "- Para abrir una cuenta, el cliente debe presentar una identificación válida y vigente. \n",
      "- Se requiere un depó\n",
      "\n",
      "Documento 3:\n",
      "Fuente: ../data/GuideLines/bank_rules1.pdf\n",
      "- Transferencias internacionales: 0.4% del monto, mínimo 15 euros. \n",
      " \n",
      "5.2. Mantenimiento de Cuenta \n",
      "- Cuenta de Ahorro: Sin comisión si se mantiene un saldo promedio mensual de 1000 euros. \n",
      "- Cuenta C\n",
      "\n",
      "Documento 4:\n",
      "Fuente: ../data/GuideLines/bank_rules1.pdf\n",
      "3.2. Prevención de Fraudes \n",
      "- Sistema de monitoreo 24/7 para detectar actividades sospechosas. \n",
      "- Notificaciones automáticas al cliente por transacciones inusuales. \n",
      "- Bloqueo temporal de cuentas ante\n"
     ]
    },
    {
     "name": "stderr",
     "output_type": "stream",
     "text": [
      "/Users/adrianinfantes/Library/Caches/pypoetry/virtualenvs/langchainragollama-USdIz_Vs-py3.12/lib/python3.12/site-packages/langchain_core/_api/deprecation.py:139: LangChainDeprecationWarning: The method `BaseRetriever.get_relevant_documents` was deprecated in langchain-core 0.1.46 and will be removed in 0.3.0. Use invoke instead.\n",
      "  warn_deprecated(\n"
     ]
    }
   ],
   "execution_count": 12
  },
  {
   "metadata": {
    "ExecuteTime": {
     "end_time": "2024-07-19T21:58:05.644006Z",
     "start_time": "2024-07-19T21:58:05.640869Z"
    }
   },
   "cell_type": "code",
   "source": [
    "class QASystem:\n",
    "    def __init__(self, llm, custom_retriever):\n",
    "        self.llm = llm\n",
    "        self.custom_retriever = custom_retriever\n",
    "        self.qa_chain = None\n",
    "\n",
    "    def setup_qa_chain(self):\n",
    "        prompt = PromptTemplate(\n",
    "            template=\"\"\"Utiliza la siguiente información para responder a la pregunta del usuario.\n",
    "            IMPORTANTE: Para preguntas sobre datos agregados o estadísticas del banco, SIEMPRE consulta primero el resumen del CSV.\n",
    "            Este resumen contiene información precisa y confiable sobre el conjunto de datos completo.\n",
    "            No te bases en ejemplos individuales para hacer generalizaciones sobre todo el conjunto de datos.\n",
    "\n",
    "            Si la pregunta se refiere a datos numéricos o estadísticas del banco, asegúrate de usar la información del resumen del CSV.\n",
    "            Si no encuentras la respuesta en el resumen, entonces puedes consultar los documentos CSV individuales.\n",
    "            Si aún así no puedes responder, indica que no lo sabes.\n",
    "            No inventes respuestas. Responde en el mismo idioma que la pregunta.\n",
    "\n",
    "            Contexto: {context}\n",
    "            Pregunta: {question}\n",
    "\n",
    "            Proporciona solo la respuesta útil a continuación, nada más. Si la respuesta involucra un recuento o estadística, asegúrate de proporcionar el número exacto encontrado en el resumen del CSV.\n",
    "            Respuesta útil:\n",
    "            \"\"\",\n",
    "            input_variables=[\"context\", \"question\"]\n",
    "        )\n",
    "        \n",
    "        self.qa_chain = RetrievalQA.from_chain_type(\n",
    "            llm=self.llm,\n",
    "            chain_type=\"stuff\",\n",
    "            retriever=self.custom_retriever,\n",
    "            return_source_documents=True,\n",
    "            chain_type_kwargs={\"prompt\": prompt}\n",
    "        )\n",
    "\n",
    "    def ask_question(self, question: str):\n",
    "        if not self.qa_chain:\n",
    "            raise ValueError(\"QA chain not set up. Run setup_qa_chain first.\")\n",
    "        return self.qa_chain.invoke({\"query\": question})"
   ],
   "id": "dda7a7fadc033657",
   "outputs": [],
   "execution_count": 13
  },
  {
   "metadata": {
    "ExecuteTime": {
     "end_time": "2024-07-19T21:58:07.037572Z",
     "start_time": "2024-07-19T21:58:07.034010Z"
    }
   },
   "cell_type": "code",
   "source": [
    "# Celda 9: Clase RAGSystem\n",
    "class RAGSystem:\n",
    "    def __init__(self, pdf_directory: str, csv_file: str):\n",
    "        self.document_manager = DocumentManager(pdf_directory, csv_file)\n",
    "        self.llm = Ollama(model=\"llama3\")\n",
    "        self.embed_model = FastEmbedEmbeddings(model_name=\"sentence-transformers/all-MiniLM-L6-v2\")\n",
    "        self.vector_store_manager = VectorStoreManager(self.embed_model)\n",
    "        self.qa_system = None\n",
    "\n",
    "    def run(self):\n",
    "        # Load and process documents\n",
    "        documents = self.document_manager.load_and_process_documents()\n",
    "        print(f\"Total documents processed: {len(documents)}\")\n",
    "\n",
    "        # Create vector store\n",
    "        vector_store = self.vector_store_manager.create_vector_store(documents)\n",
    "        print(f\"Vector store created with {vector_store._collection.count()} documents\")\n",
    "\n",
    "        # Set up custom retriever\n",
    "        custom_retriever = CustomRetriever(vectorstore=vector_store)\n",
    "\n",
    "        # Set up QA system\n",
    "        self.qa_system = QASystem(self.llm, custom_retriever)\n",
    "        self.qa_system.setup_qa_chain()\n",
    "        print(\"QA system set up successfully\")\n",
    "\n",
    "    def ask_question(self, question: str):\n",
    "        if not self.qa_system:\n",
    "            raise ValueError(\"QA system not set up. Run the 'run' method first.\")\n",
    "        return self.qa_system.ask_question(question)"
   ],
   "id": "51aed85e3aca79e",
   "outputs": [],
   "execution_count": 14
  },
  {
   "metadata": {
    "ExecuteTime": {
     "end_time": "2024-07-19T21:58:59.094072Z",
     "start_time": "2024-07-19T21:58:09.986622Z"
    }
   },
   "cell_type": "code",
   "source": [
    "# Celda 10: Uso del RAGSystem\n",
    "rag_system = RAGSystem(pdf_directory=\"../data/GuideLines\", csv_file='../data/raw_data/BankCustomerChurnPrediction.csv')\n",
    "rag_system.run()"
   ],
   "id": "53ee500e5372ab2d",
   "outputs": [
    {
     "data": {
      "text/plain": [
       "Fetching 5 files:   0%|          | 0/5 [00:00<?, ?it/s]"
      ],
      "application/vnd.jupyter.widget-view+json": {
       "version_major": 2,
       "version_minor": 0,
       "model_id": "5ae83487cb4f489f8828583dc33614ad"
      }
     },
     "metadata": {},
     "output_type": "display_data"
    },
    {
     "name": "stdout",
     "output_type": "stream",
     "text": [
      "Total documents processed: 1004\n",
      "Vector store created with 2008 documents\n",
      "QA system set up successfully\n"
     ]
    }
   ],
   "execution_count": 15
  },
  {
   "metadata": {
    "ExecuteTime": {
     "end_time": "2024-07-19T21:59:02.659410Z",
     "start_time": "2024-07-19T21:59:02.653671Z"
    }
   },
   "cell_type": "code",
   "source": [
    "# Celda 11: Función para ejecutar pruebas\n",
    "import csv\n",
    "from datetime import datetime\n",
    "\n",
    "def run_tests(rag_system, questions, output_file='test_results.csv'):\n",
    "    with open(output_file, 'w', newline='', encoding='utf-8') as csvfile:\n",
    "        fieldnames = ['timestamp', 'question', 'answer', 'source', 'source_content']\n",
    "        writer = csv.DictWriter(csvfile, fieldnames=fieldnames)\n",
    "        writer.writeheader()\n",
    "\n",
    "        for i, question in enumerate(questions, 1):\n",
    "            print(f\"\\nPregunta {i}: {question}\")\n",
    "            try:\n",
    "                response = rag_system.ask_question(question)\n",
    "                answer = response[\"result\"]\n",
    "                source = response['source_documents'][0].metadata.get('source', 'No especificada')\n",
    "                source_content = response['source_documents'][0].page_content[:200]  # Primeros 200 caracteres\n",
    "\n",
    "                print(\"Respuesta del modelo:\")\n",
    "                print(answer)\n",
    "                print(\"\\nFuente principal:\")\n",
    "                print(f\"Fuente: {source}\")\n",
    "                print(source_content)\n",
    "\n",
    "                # Escribir en el archivo CSV\n",
    "                writer.writerow({\n",
    "                    'timestamp': datetime.now().isoformat(),\n",
    "                    'question': question,\n",
    "                    'answer': answer,\n",
    "                    'source': source,\n",
    "                    'source_content': source_content\n",
    "                })\n",
    "\n",
    "            except Exception as e:\n",
    "                error_message = f\"Error al procesar la pregunta: {str(e)}\"\n",
    "                print(error_message)\n",
    "                \n",
    "                # Escribir el error en el archivo CSV\n",
    "                writer.writerow({\n",
    "                    'timestamp': datetime.now().isoformat(),\n",
    "                    'question': question,\n",
    "                    'answer': error_message,\n",
    "                    'source': 'Error',\n",
    "                    'source_content': ''\n",
    "                })\n",
    "\n",
    "            print(\"-\" * 50)\n",
    "\n",
    "    print(f\"Resultados guardados en {output_file}\")"
   ],
   "id": "7d28b1e490a4a174",
   "outputs": [],
   "execution_count": 16
  },
  {
   "metadata": {
    "ExecuteTime": {
     "end_time": "2024-07-19T21:59:51.928242Z",
     "start_time": "2024-07-19T21:59:04.233790Z"
    }
   },
   "cell_type": "code",
   "source": [
    "# Uso de la función\n",
    "test_questions = [\n",
    "    \"¿Cuántos clientes únicos tenemos en el banco según nuestra data en el CSV?\",\n",
    "    \"¿Cuál es el saldo promedio de los clientes?\",\n",
    "    \"¿Cuántos países están representados en nuestros datos de clientes?\",\n",
    "    \"¿Cuál es la tasa de abandono de clientes?\",\n",
    "    \"¿Cuál es el rango de edades de nuestros clientes?\",\n",
    "    \"¿Qué porcentaje de clientes tiene tarjeta de crédito?\"\n",
    "]\n",
    "\n",
    "run_tests(rag_system, test_questions, 'resultados_pruebas.csv')"
   ],
   "id": "de05143b26228290",
   "outputs": [
    {
     "name": "stdout",
     "output_type": "stream",
     "text": [
      "\n",
      "Pregunta 1: ¿Cuántos clientes únicos tenemos en el banco según nuestra data en el CSV?\n",
      "Respuesta del modelo:\n",
      "Según el resumen del CSV, tenemos 10,000 clientes únicos.\n",
      "\n",
      "Fuente principal:\n",
      "Fuente: CSV_summary\n",
      "\n",
      "        RESUMEN IMPORTANTE DEL CSV 'BankCustomerChurnPrediction.csv':\n",
      "        - Total de filas y clientes únicos: 10000\n",
      "        - Número exacto de clientes únicos: 10000\n",
      "        - Columnas: customer_\n",
      "--------------------------------------------------\n",
      "\n",
      "Pregunta 2: ¿Cuál es el saldo promedio de los clientes?\n",
      "Respuesta del modelo:\n",
      "El saldo promedio es 76485.89.\n",
      "\n",
      "Fuente principal:\n",
      "Fuente: CSV_summary\n",
      "\n",
      "        RESUMEN IMPORTANTE DEL CSV 'BankCustomerChurnPrediction.csv':\n",
      "        - Total de filas y clientes únicos: 10000\n",
      "        - Número exacto de clientes únicos: 10000\n",
      "        - Columnas: customer_\n",
      "--------------------------------------------------\n",
      "\n",
      "Pregunta 3: ¿Cuántos países están representados en nuestros datos de clientes?\n",
      "Respuesta del modelo:\n",
      "Tres países están representados en nuestros datos de clientes: France, Spain y Germany.\n",
      "\n",
      "Fuente principal:\n",
      "Fuente: CSV_summary\n",
      "\n",
      "        RESUMEN IMPORTANTE DEL CSV 'BankCustomerChurnPrediction.csv':\n",
      "        - Total de filas y clientes únicos: 10000\n",
      "        - Número exacto de clientes únicos: 10000\n",
      "        - Columnas: customer_\n",
      "--------------------------------------------------\n",
      "\n",
      "Pregunta 4: ¿Cuál es la tasa de abandono de clientes?\n",
      "Respuesta del modelo:\n",
      "20.37%\n",
      "\n",
      "Fuente principal:\n",
      "Fuente: CSV_summary\n",
      "\n",
      "        RESUMEN IMPORTANTE DEL CSV 'BankCustomerChurnPrediction.csv':\n",
      "        - Total de filas y clientes únicos: 10000\n",
      "        - Número exacto de clientes únicos: 10000\n",
      "        - Columnas: customer_\n",
      "--------------------------------------------------\n",
      "\n",
      "Pregunta 5: ¿Cuál es el rango de edades de nuestros clientes?\n",
      "Respuesta del modelo:\n",
      "El rango de edades de nuestros clientes es de 18 a 92 años.\n",
      "\n",
      "Fuente principal:\n",
      "Fuente: CSV_summary\n",
      "\n",
      "        RESUMEN IMPORTANTE DEL CSV 'BankCustomerChurnPrediction.csv':\n",
      "        - Total de filas y clientes únicos: 10000\n",
      "        - Número exacto de clientes únicos: 10000\n",
      "        - Columnas: customer_\n",
      "--------------------------------------------------\n",
      "\n",
      "Pregunta 6: ¿Qué porcentaje de clientes tiene tarjeta de crédito?\n",
      "Respuesta del modelo:\n",
      "70.55%\n",
      "\n",
      "Fuente principal:\n",
      "Fuente: CSV_summary\n",
      "\n",
      "        RESUMEN IMPORTANTE DEL CSV 'BankCustomerChurnPrediction.csv':\n",
      "        - Total de filas y clientes únicos: 10000\n",
      "        - Número exacto de clientes únicos: 10000\n",
      "        - Columnas: customer_\n",
      "--------------------------------------------------\n",
      "Resultados guardados en resultados_pruebas.csv\n"
     ]
    }
   ],
   "execution_count": 17
  },
  {
   "metadata": {
    "ExecuteTime": {
     "end_time": "2024-07-19T22:10:15.647369Z",
     "start_time": "2024-07-19T22:10:15.627383Z"
    }
   },
   "cell_type": "code",
   "source": [
    "# Celda 12: Clase EvaluationMetrics\n",
    "\n",
    "import numpy as np\n",
    "from collections import Counter\n",
    "from rouge import Rouge\n",
    "import time\n",
    "\n",
    "class EvaluationMetrics:\n",
    "    def __init__(self):\n",
    "        self.rouge = Rouge()\n",
    "\n",
    "    def calculate_bleu(self, reference, candidate, max_n=4):\n",
    "        \"\"\"Calcula una versión simplificada del score BLEU.\"\"\"\n",
    "        def count_ngrams(sentence, n):\n",
    "            return Counter(zip(*[sentence[i:] for i in range(n)]))\n",
    "\n",
    "        reference_words = reference.split()\n",
    "        candidate_words = candidate.split()\n",
    "\n",
    "        scores = []\n",
    "        for n in range(1, min(max_n, len(candidate_words)) + 1):\n",
    "            ref_ngrams = count_ngrams(reference_words, n)\n",
    "            cand_ngrams = count_ngrams(candidate_words, n)\n",
    "            \n",
    "            matches = sum((ref_ngrams & cand_ngrams).values())\n",
    "            total = sum(cand_ngrams.values())\n",
    "            \n",
    "            score = matches / total if total > 0 else 0\n",
    "            scores.append(score)\n",
    "\n",
    "        return np.mean(scores) if scores else 0\n",
    "\n",
    "    def calculate_rouge(self, reference, candidate):\n",
    "        \"\"\"Calcula los scores ROUGE.\"\"\"\n",
    "        try:\n",
    "            scores = self.rouge.get_scores(candidate, reference)\n",
    "            return {\n",
    "                'rouge-1': scores[0]['rouge-1']['f'],\n",
    "                'rouge-2': scores[0]['rouge-2']['f'],\n",
    "                'rouge-l': scores[0]['rouge-l']['f']\n",
    "            }\n",
    "        except Exception as e:\n",
    "            print(f\"Error al calcular ROUGE: {e}\")\n",
    "            return {'rouge-1': 0, 'rouge-2': 0, 'rouge-l': 0}\n",
    "\n",
    "    def calculate_perplexity(self, llm, text):\n",
    "        \"\"\"Calcula la perplejidad (implementación simplificada).\"\"\"\n",
    "        try:\n",
    "            logprobs = llm.get_logprobs(text)\n",
    "            return np.exp(-np.mean(logprobs))\n",
    "        except Exception as e:\n",
    "            print(f\"Error al calcular la perplejidad: {e}\")\n",
    "            return float('inf')  # Devuelve infinito en caso de error\n",
    "\n",
    "    def evaluate_source_relevance(self, question, source_content):\n",
    "        \"\"\"Evalúa la relevancia de la fuente respecto a la pregunta.\"\"\"\n",
    "        question_words = set(question.lower().split())\n",
    "        source_words = set(source_content.lower().split())\n",
    "        common_words = question_words.intersection(source_words)\n",
    "        return len(common_words) / len(question_words) if question_words else 0\n",
    "\n",
    "    def measure_response_time(self, func, *args, **kwargs):\n",
    "        \"\"\"Mide el tiempo de respuesta de una función.\"\"\"\n",
    "        start_time = time.time()\n",
    "        result = func(*args, **kwargs)\n",
    "        end_time = time.time()\n",
    "        return result, end_time - start_time\n",
    "\n",
    "    def evaluate_response(self, question, answer, reference_answer, source_content, llm):\n",
    "        \"\"\"Evalúa una respuesta utilizando todas las métricas.\"\"\"\n",
    "        bleu_score = self.calculate_bleu(reference_answer, answer)\n",
    "        rouge_scores = self.calculate_rouge(reference_answer, answer)\n",
    "        perplexity = self.calculate_perplexity(llm, answer)\n",
    "        source_relevance = self.evaluate_source_relevance(question, source_content)\n",
    "\n",
    "        return {\n",
    "            'bleu_score': bleu_score,\n",
    "            'rouge_scores': rouge_scores,\n",
    "            'perplexity': perplexity,\n",
    "            'source_relevance': source_relevance\n",
    "        }"
   ],
   "id": "eba67483fb4d06cb",
   "outputs": [],
   "execution_count": 21
  },
  {
   "metadata": {
    "ExecuteTime": {
     "end_time": "2024-07-19T22:10:19.528628Z",
     "start_time": "2024-07-19T22:10:16.792022Z"
    }
   },
   "cell_type": "code",
   "source": [
    "# Uso de la clase EvaluationMetrics\n",
    "\n",
    "metrics = EvaluationMetrics()\n",
    "\n",
    "question = \"¿Cuál es el saldo promedio de los clientes?\"\n",
    "reference_answer = \"El saldo promedio de los clientes es 76,485.89 euros.\"\n",
    "\n",
    "answer, response_time = metrics.measure_response_time(rag_system.ask_question, question)\n",
    "\n",
    "evaluation_results = metrics.evaluate_response(\n",
    "    question,\n",
    "    answer['result'],\n",
    "    reference_answer,\n",
    "    answer['source_documents'][0].page_content,\n",
    "    rag_system.llm\n",
    ")\n",
    "\n",
    "evaluation_results['response_time'] = response_time \n",
    "print(evaluation_results)"
   ],
   "id": "a1f4d0cafaac527c",
   "outputs": [
    {
     "name": "stdout",
     "output_type": "stream",
     "text": [
      "Error al calcular la perplejidad: 'Ollama' object has no attribute 'get_logprobs'\n",
      "{'bleu_score': 0.0, 'rouge_scores': {'rouge-1': 0.16666666388888893, 'rouge-2': 0.0, 'rouge-l': 0.16666666388888893}, 'perplexity': inf, 'source_relevance': 0.5, 'response_time': 2.7093358039855957}\n"
     ]
    }
   ],
   "execution_count": 22
  },
  {
   "metadata": {},
   "cell_type": "code",
   "outputs": [],
   "execution_count": null,
   "source": "",
   "id": "3d2d20de893a095f"
  }
 ],
 "metadata": {
  "kernelspec": {
   "display_name": "Python 3",
   "language": "python",
   "name": "python3"
  },
  "language_info": {
   "codemirror_mode": {
    "name": "ipython",
    "version": 2
   },
   "file_extension": ".py",
   "mimetype": "text/x-python",
   "name": "python",
   "nbconvert_exporter": "python",
   "pygments_lexer": "ipython2",
   "version": "2.7.6"
  }
 },
 "nbformat": 4,
 "nbformat_minor": 5
}
